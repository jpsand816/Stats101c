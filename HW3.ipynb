{
 "cells": [
  {
   "cell_type": "markdown",
   "id": "526701d2-a1d9-411e-a33c-b2194b2e1fa0",
   "metadata": {},
   "source": [
    "# (1)"
   ]
  },
  {
   "cell_type": "markdown",
   "id": "1f217c31-e1a3-454f-acd7-b197d2b9a66c",
   "metadata": {},
   "source": [
    "Importing Packages and dataset"
   ]
  },
  {
   "cell_type": "code",
   "execution_count": 13,
   "id": "7142216e-0319-4004-a090-ae8b4aee2bcc",
   "metadata": {},
   "outputs": [
    {
     "data": {
      "text/html": [
       "<div>\n",
       "<style scoped>\n",
       "    .dataframe tbody tr th:only-of-type {\n",
       "        vertical-align: middle;\n",
       "    }\n",
       "\n",
       "    .dataframe tbody tr th {\n",
       "        vertical-align: top;\n",
       "    }\n",
       "\n",
       "    .dataframe thead th {\n",
       "        text-align: right;\n",
       "    }\n",
       "</style>\n",
       "<table border=\"1\" class=\"dataframe\">\n",
       "  <thead>\n",
       "    <tr style=\"text-align: right;\">\n",
       "      <th></th>\n",
       "      <th>variance</th>\n",
       "      <th>skewness</th>\n",
       "      <th>curtosis</th>\n",
       "      <th>entropy</th>\n",
       "      <th>class</th>\n",
       "    </tr>\n",
       "  </thead>\n",
       "  <tbody>\n",
       "    <tr>\n",
       "      <th>0</th>\n",
       "      <td>3.62160</td>\n",
       "      <td>8.6661</td>\n",
       "      <td>-2.8073</td>\n",
       "      <td>-0.44699</td>\n",
       "      <td>0</td>\n",
       "    </tr>\n",
       "    <tr>\n",
       "      <th>1</th>\n",
       "      <td>4.54590</td>\n",
       "      <td>8.1674</td>\n",
       "      <td>-2.4586</td>\n",
       "      <td>-1.46210</td>\n",
       "      <td>0</td>\n",
       "    </tr>\n",
       "    <tr>\n",
       "      <th>2</th>\n",
       "      <td>3.86600</td>\n",
       "      <td>-2.6383</td>\n",
       "      <td>1.9242</td>\n",
       "      <td>0.10645</td>\n",
       "      <td>0</td>\n",
       "    </tr>\n",
       "    <tr>\n",
       "      <th>3</th>\n",
       "      <td>3.45660</td>\n",
       "      <td>9.5228</td>\n",
       "      <td>-4.0112</td>\n",
       "      <td>-3.59440</td>\n",
       "      <td>0</td>\n",
       "    </tr>\n",
       "    <tr>\n",
       "      <th>4</th>\n",
       "      <td>0.32924</td>\n",
       "      <td>-4.4552</td>\n",
       "      <td>4.5718</td>\n",
       "      <td>-0.98880</td>\n",
       "      <td>0</td>\n",
       "    </tr>\n",
       "  </tbody>\n",
       "</table>\n",
       "</div>"
      ],
      "text/plain": [
       "   variance  skewness  curtosis  entropy  class\n",
       "0   3.62160    8.6661   -2.8073 -0.44699      0\n",
       "1   4.54590    8.1674   -2.4586 -1.46210      0\n",
       "2   3.86600   -2.6383    1.9242  0.10645      0\n",
       "3   3.45660    9.5228   -4.0112 -3.59440      0\n",
       "4   0.32924   -4.4552    4.5718 -0.98880      0"
      ]
     },
     "execution_count": 13,
     "metadata": {},
     "output_type": "execute_result"
    }
   ],
   "source": [
    "#import packages\n",
    "import numpy as np\n",
    "import pandas as pd\n",
    "import matplotlib.pyplot as plt\n",
    "from sklearn.model_selection import train_test_split\n",
    "from sklearn.tree import DecisionTreeClassifier\n",
    "from sklearn.ensemble import RandomForestClassifier, GradientBoostingClassifier\n",
    "from sklearn.metrics import accuracy_score\n",
    "\n",
    "\n",
    "#import dataset\n",
    "bank = pd.read_csv('BankNote_Authentication.csv')\n",
    "bank.head()\n"
   ]
  },
  {
   "cell_type": "markdown",
   "id": "9c6e1b3f-209b-47ab-ad17-9f8a7197f41c",
   "metadata": {},
   "source": [
    "Split the dataset"
   ]
  },
  {
   "cell_type": "code",
   "execution_count": 14,
   "id": "fb2233e9-53ea-4ae8-8db7-3160c4705375",
   "metadata": {},
   "outputs": [],
   "source": [
    "#split bank into input and output\n",
    "bank = np.array(bank)\n",
    "X_bank = bank[:, 0:2]\n",
    "y_bank = bank[:, 4]\n",
    "\n",
    "\n",
    "#split dataset\n",
    "X_train, X_test, y_train, y_test = train_test_split(X_bank, y_bank, test_size=0.3, random_state=22)"
   ]
  },
  {
   "cell_type": "markdown",
   "id": "503660dc-fb4e-43ca-9c53-07482bbad168",
   "metadata": {},
   "source": [
    "# (2)"
   ]
  },
  {
   "cell_type": "code",
   "execution_count": 15,
   "id": "a1aba9cb-faa6-4175-b0fb-7685c87f8f6f",
   "metadata": {},
   "outputs": [
    {
     "name": "stdout",
     "output_type": "stream",
     "text": [
      "Decision Tree Test Error: 0.07281553398058249\n"
     ]
    }
   ],
   "source": [
    "#create and fit decision tree\n",
    "decision_tree = DecisionTreeClassifier(max_depth=5, random_state=22)\n",
    "decision_tree.fit(X_train, y_train)\n",
    "\n",
    "#predict decision tree\n",
    "y_pred_dtree = decision_tree.predict(X_test)\n",
    "\n",
    "#report error\n",
    "decision_tree_error = accuracy_score(y_true = y_test, y_pred = y_pred_dtree)\n",
    "print(\"Decision Tree Test Error:\", 1 - decision_tree_error)"
   ]
  },
  {
   "cell_type": "markdown",
   "id": "39e36463-c13c-4bb6-96b7-5c47de201b35",
   "metadata": {},
   "source": [
    "# (3)"
   ]
  },
  {
   "cell_type": "code",
   "execution_count": 16,
   "id": "ea4c4aae-ba7b-4af6-8c5a-0e2fdea77e28",
   "metadata": {},
   "outputs": [
    {
     "name": "stdout",
     "output_type": "stream",
     "text": [
      "Random Forest Test Error: 0.07038834951456308\n"
     ]
    }
   ],
   "source": [
    "#create and fit random forest\n",
    "random_forest = RandomForestClassifier(n_estimators=51, max_depth=5, random_state=22)\n",
    "random_forest.fit(X_train, y_train)\n",
    "\n",
    "#predict random forest\n",
    "y_pred_rf = random_forest.predict(X_test)\n",
    "\n",
    "#report error\n",
    "random_forest_error = accuracy_score(y_true = y_test, y_pred = y_pred_rf)\n",
    "print(\"Random Forest Test Error:\", 1 - random_forest_error)"
   ]
  },
  {
   "cell_type": "markdown",
   "id": "e66bfb10-3e2d-479f-a8e5-58db4e05db92",
   "metadata": {},
   "source": [
    "# (4)"
   ]
  },
  {
   "cell_type": "code",
   "execution_count": 17,
   "id": "315e9a17-2fbb-4395-8df2-c17df8a44124",
   "metadata": {},
   "outputs": [
    {
     "name": "stdout",
     "output_type": "stream",
     "text": [
      "Boosting Test Error: 0.06067961165048541\n"
     ]
    }
   ],
   "source": [
    "#create and fit boosting model\n",
    "boosting_model = GradientBoostingClassifier(n_estimators=51, max_depth=5, random_state=22)\n",
    "boosting_model.fit(X_train, y_train)\n",
    "\n",
    "#predict boosting model\n",
    "y_pred_boost = boosting_model.predict(X_test)\n",
    "\n",
    "#report error\n",
    "boosting_error = accuracy_score(y_true = y_test, y_pred = y_pred_boost)\n",
    "print(\"Boosting Test Error:\", 1 - boosting_error)"
   ]
  },
  {
   "cell_type": "markdown",
   "id": "cc94852e-a148-41f1-9710-2158f6ca75a3",
   "metadata": {},
   "source": [
    "# (5)"
   ]
  },
  {
   "cell_type": "markdown",
   "id": "91a7bad7-20c9-446b-b1c1-abc12868d170",
   "metadata": {},
   "source": [
    "By comparing the testing errors of all three methods, it seems like the boosting model better predicts the model as it has the lowest error. The decision tree seems to be the most innaccurate out of the three methods as it has the highest testing error. "
   ]
  }
 ],
 "metadata": {
  "kernelspec": {
   "display_name": "Python 3 (ipykernel)",
   "language": "python",
   "name": "python3"
  },
  "language_info": {
   "codemirror_mode": {
    "name": "ipython",
    "version": 3
   },
   "file_extension": ".py",
   "mimetype": "text/x-python",
   "name": "python",
   "nbconvert_exporter": "python",
   "pygments_lexer": "ipython3",
   "version": "3.11.7"
  }
 },
 "nbformat": 4,
 "nbformat_minor": 5
}
